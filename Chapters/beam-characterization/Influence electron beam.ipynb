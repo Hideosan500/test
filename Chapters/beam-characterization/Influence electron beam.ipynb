{
 "cells": [
  {
   "cell_type": "code",
   "execution_count": 46,
   "metadata": {},
   "outputs": [
    {
     "data": {
      "image/png": "[encoded data removed]",
      "text/plain": [
       "<Figure size 576x324 with 4 Axes>"
      ]
     },
     "metadata": {
      "needs_background": "light"
     },
     "output_type": "display_data"
    }
   ],
   "source": [
    "import matplotlib as mplt\n",
    "from matplotlib import pyplot as plt\n",
    "import numpy as np\n",
    "from matplotlib import patches as mpatches\n",
    "from matplotlib import patches as mpatches\n",
    "from matplotlib.collections import PatchCollection\n",
    "from matplotlib.patches import Rectangle\n",
    "\n",
    "#plt.figure(figsize = (8,4.5))\n",
    "fig,axes = plt.subplots(2,2,sharey = 'row',sharex = 'row')\n",
    "fig.subplots_adjust(hspace=0.25, wspace=0.1)\n",
    "fig.set_size_inches(8,4.5)\n",
    "\n",
    "#x = np.ones(150)\n",
    "x = np.arange(0,200)\n",
    "signal1 = np.zeros(200)\n",
    "signal1[25::50] = 5.0\n",
    "axes[0,0].plot(x,signal1)\n",
    "axes[0,0].set_ylabel('voltage')\n",
    "axes[0,0].set_xlabel('time')\n",
    "axes[0,0].yaxis.set_major_formatter(plt.NullFormatter())\n",
    "axes[0,0].xaxis.set_major_formatter(plt.NullFormatter())\n",
    "\n",
    "signal2 = np.zeros(200)\n",
    "signal2[25::100] = 5.0\n",
    "signal2[40::100] = 5.0\n",
    "axes[0,1].plot(x,signal2)\n",
    "axes[0,1].set_xlabel('time')\n",
    "\n",
    "axes[1,1].yaxis.set_major_locator(plt.NullLocator())\n",
    "axes[1,1].xaxis.set_major_locator(plt.NullLocator())\n",
    "\n",
    "#x.yaxis.set_major_locator(plt.NullLocator())\n",
    "circle = []\n",
    "patches = []\n",
    "patches2 = []\n",
    "rect = mpatches.Rectangle([0.46, 0.0], 0.08, 0.3, ec=\"none\")\n",
    "circle += [mpatches.Circle((0.25,0.5), 0.05,facecolor = 'blue',alpha = 1, ec=\"none\")]\n",
    "circle += [mpatches.Circle((0.75,0.5), 0.05,facecolor = 'blue',alpha = 1, ec=\"none\")]\n",
    "\n",
    "patches2.append(mpatches.Rectangle([0.60, 0.0], 0.08, 0.3, ec=\"none\"))\n",
    "patches.append(rect)\n",
    "\n",
    "# Create patch collection with specified colour/alpha\n",
    "pc = PatchCollection(patches, facecolor= 'white', alpha=1,\n",
    "                         edgecolor='black')\n",
    "circ = PatchCollection(circle, facecolor= '#99ccff', alpha=1,\n",
    "                         edgecolor='white')\n",
    "circ2 = PatchCollection(circle, facecolor= '#99ccff', alpha=1,\n",
    "                         edgecolor='white')\n",
    "pc2 = PatchCollection(patches2, facecolor= 'white', alpha=1,\n",
    "                         edgecolor='black')\n",
    " \n",
    "\n",
    "# Add collection to axes\n",
    "axes[1,0].add_collection(pc)\n",
    "axes[1,0].add_collection(circ)\n",
    "\n",
    "axes[1,1].add_collection(circ2)\n",
    "axes[1,1].add_collection(pc2)\n",
    "\n",
    "axes[1,0].annotate('', xy=(0.505,0.05), xytext = (0.505,0.7),\n",
    "             xycoords='axes fraction',textcoords='data',arrowprops={'arrowstyle': '-',})\n",
    "axes[1,0].annotate('', xy=(0.28,0.5), xytext = (0.72,0.5),\n",
    "             xycoords='axes fraction',textcoords='data',color = '#99ccff',arrowprops={'arrowstyle': '<->',})\n",
    "\n",
    "axes[1,1].annotate('', xy=(0.28,0.5), xytext = (0.72,0.5),\n",
    "             xycoords='axes fraction',textcoords='data',arrowprops={'arrowstyle': '<->'})\n",
    "axes[1,1].annotate('', xy=(0.64,0.05), xytext = (0.64,0.7),\n",
    "             xycoords='axes fraction',textcoords='data',arrowprops={'arrowstyle': '-',})\n",
    "\n",
    "fig.savefig('Spikes.pdf', dpi = 300)\n",
    "\n"
   ]
  }
 ],
 "metadata": {
  "kernelspec": {
   "display_name": "Python 3",
   "language": "python",
   "name": "python3"
  },
  "language_info": {
   "codemirror_mode": {
    "name": "ipython",
    "version": 3
   },
   "file_extension": ".py",
   "mimetype": "text/x-python",
   "name": "python",
   "nbconvert_exporter": "python",
   "pygments_lexer": "ipython3",
   "version": "3.7.7"
  }
 },
 "nbformat": 4,
 "nbformat_minor": 4
}
