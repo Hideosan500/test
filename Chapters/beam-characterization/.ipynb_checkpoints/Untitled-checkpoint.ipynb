{
 "cells": [
  {
   "cell_type": "code",
   "execution_count": 47,
   "metadata": {},
   "outputs": [
    {
     "data": {
      "text/plain": [
       "<matplotlib.collections.PatchCollection at 0x114b62e4b48>"
      ]
     },
     "execution_count": 47,
     "metadata": {},
     "output_type": "execute_result"
    },
    {
     "data": {
      "image/png": "[encoded data removed]",
      "text/plain": [
       "<Figure size 432x288 with 4 Axes>"
      ]
     },
     "metadata": {
      "needs_background": "light"
     },
     "output_type": "display_data"
    }
   ],
   "source": [
    "import matplotlib as mplt\n",
    "from matplotlib import pyplot as plt\n",
    "import numpy as np\n",
    "from matplotlib import patches as mpatches\n",
    "from matplotlib import patches as mpatches\n",
    "from matplotlib.collections import PatchCollection\n",
    "from matplotlib.patches import Rectangle\n",
    "\n",
    "#plt.figure(figsize = (8,4.5))\n",
    "fig,axes = plt.subplots(2,2,sharey = 'row',sharex = 'row')\n",
    "fig.subplots_adjust(hspace=0.4, wspace=0.4)\n",
    "\n",
    "#x = np.ones(150)\n",
    "x = np.arange(0,200)\n",
    "signal1 = np.zeros(200)\n",
    "signal1[25::50] = 5.0\n",
    "axes[0,0].plot(x,signal1)\n",
    "axes[0,0].set_ylabel('voltage')\n",
    "axes[0,0].set_xlabel('time')\n",
    "axes[0,0].yaxis.set_major_formatter(plt.NullFormatter())\n",
    "axes[0,0].xaxis.set_major_formatter(plt.NullFormatter())\n",
    "\n",
    "signal2 = np.zeros(200)\n",
    "signal2[25::100] = 5.0\n",
    "signal2[40::100] = 5.0\n",
    "axes[0,1].plot(x,signal2)\n",
    "axes[0,1].set_xlabel('time')\n",
    "\n",
    "axes[1,1].yaxis.set_major_locator(plt.NullLocator())\n",
    "axes[1,1].xaxis.set_major_locator(plt.NullLocator())\n",
    "\n",
    "#x.yaxis.set_major_locator(plt.NullLocator())\n",
    "\n",
    "patches = []\n",
    "rect = mpatches.Rectangle([0.46, 0.0], 0.08, 0.3, ec=\"none\")\n",
    "patches.append(rect)\n",
    "\n",
    "# Create patch collection with specified colour/alpha\n",
    "pc = PatchCollection(patches, facecolor= 'white', alpha=1,\n",
    "                         edgecolor='black')\n",
    "\n",
    "pc2 = PatchCollection(patches, facecolor= 'white', alpha=1,\n",
    "                         edgecolor='black')\n",
    " \n",
    "\n",
    "# Add collection to axes\n",
    "axes[1,0].add_collection(pc)\n",
    "axes[1,1].add_collection(pc2)\n"
   ]
  }
 ],
 "metadata": {
  "kernelspec": {
   "display_name": "Python 3",
   "language": "python",
   "name": "python3"
  },
  "language_info": {
   "codemirror_mode": {
    "name": "ipython",
    "version": 3
   },
   "file_extension": ".py",
   "mimetype": "text/x-python",
   "name": "python",
   "nbconvert_exporter": "python",
   "pygments_lexer": "ipython3",
   "version": "3.7.7"
  }
 },
 "nbformat": 4,
 "nbformat_minor": 4
}
